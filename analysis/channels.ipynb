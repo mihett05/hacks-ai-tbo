{
 "cells": [
  {
   "cell_type": "code",
   "execution_count": 244,
   "outputs": [],
   "source": [
    "from tifffile import TiffFile\n",
    "import matplotlib.pyplot as plt\n",
    "import cv2 as cv\n",
    "import json\n",
    "import numpy as np\n",
    "from itertools import combinations\n",
    "from operator import methodcaller"
   ],
   "metadata": {
    "collapsed": false,
    "ExecuteTime": {
     "end_time": "2023-10-28T00:26:25.874877100Z",
     "start_time": "2023-10-28T00:26:25.863571300Z"
    }
   },
   "id": "f5beac39010287c9"
  },
  {
   "cell_type": "code",
   "execution_count": 245,
   "outputs": [],
   "source": [
    "tif = TiffFile('../train_dataset_dataset/video0/frames_ms/0000.tif')"
   ],
   "metadata": {
    "collapsed": false,
    "ExecuteTime": {
     "end_time": "2023-10-28T00:26:26.042907700Z",
     "start_time": "2023-10-28T00:26:26.037328500Z"
    }
   },
   "id": "f39598d0b5b4de47"
  },
  {
   "cell_type": "code",
   "execution_count": 246,
   "outputs": [],
   "source": [
    "with open(\"../dataset/video0.json\") as f:\n",
    "    data = json.load(f)\n",
    "annotations = [a for a in data[\"annotations\"] if a[\"image_id\"] == \"0\"]\n",
    "\n",
    "bbox_list = []\n",
    "\n",
    "for a in annotations:\n",
    "    x, y, w, h = list(map(int, a[\"bbox\"]))\n",
    "    bbox_list.append((x, y, w, h, a['category_id']))"
   ],
   "metadata": {
    "collapsed": false,
    "ExecuteTime": {
     "end_time": "2023-10-28T00:26:26.244244400Z",
     "start_time": "2023-10-28T00:26:26.207300200Z"
    }
   },
   "id": "f70c5456172bdec5"
  },
  {
   "cell_type": "code",
   "execution_count": 247,
   "outputs": [],
   "source": [
    "pages = list(map(methodcaller('asarray'), tif.pages))"
   ],
   "metadata": {
    "collapsed": false,
    "ExecuteTime": {
     "end_time": "2023-10-28T00:26:26.393315300Z",
     "start_time": "2023-10-28T00:26:26.381409100Z"
    }
   },
   "id": "3223ea20b2e0fff6"
  },
  {
   "cell_type": "code",
   "execution_count": 251,
   "outputs": [],
   "source": [
    "for (first_index, first_channel), (second_index, second_channel), (third_index, third_channel) in combinations(enumerate(pages), r=3):\n",
    "    result_image = (first_channel + second_channel + third_channel) / 3 * 255\n",
    "    cv.imwrite(f'color_combinations/{first_index}_{second_index}_{third_index}.jpg', result_image)"
   ],
   "metadata": {
    "collapsed": false,
    "ExecuteTime": {
     "end_time": "2023-10-28T00:30:22.812505300Z",
     "start_time": "2023-10-28T00:30:22.256067700Z"
    }
   },
   "id": "2d9e44923abfb94b"
  },
  {
   "cell_type": "code",
   "execution_count": null,
   "outputs": [],
   "source": [],
   "metadata": {
    "collapsed": false
   },
   "id": "a2345401358794a8"
  }
 ],
 "metadata": {
  "kernelspec": {
   "display_name": "Python 3",
   "language": "python",
   "name": "python3"
  },
  "language_info": {
   "codemirror_mode": {
    "name": "ipython",
    "version": 2
   },
   "file_extension": ".py",
   "mimetype": "text/x-python",
   "name": "python",
   "nbconvert_exporter": "python",
   "pygments_lexer": "ipython2",
   "version": "2.7.6"
  }
 },
 "nbformat": 4,
 "nbformat_minor": 5
}
